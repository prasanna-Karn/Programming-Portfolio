{
 "cells": [
  {
   "cell_type": "code",
   "execution_count": 16,
   "id": "e4660f1a-a00d-42a3-833d-73c1eca3d4af",
   "metadata": {},
   "outputs": [
    {
     "name": "stdin",
     "output_type": "stream",
     "text": [
      "Enter something :  prasanna\n"
     ]
    },
    {
     "name": "stdout",
     "output_type": "stream",
     "text": [
      "The unique letters in the text prasanna are = ['a', 'n', 'p', 'r', 's']\n"
     ]
    }
   ],
   "source": [
    "def unique_sorted_letters(text):\n",
    "    return sorted(set(text)) # set put the letters in random order\n",
    "\n",
    "user_input=input(\"Enter something : \")\n",
    "print(f'The unique letters in the text {user_input} are =',unique_sorted_letters(user_input))  # Output: example = ['a', 'e', 'h', 'n', 's', 'w']\n"
   ]
  },
  {
   "cell_type": "code",
   "execution_count": 5,
   "id": "5577303e-f8dd-41d6-8c30-16db3a3d6711",
   "metadata": {},
   "outputs": [
    {
     "name": "stdin",
     "output_type": "stream",
     "text": [
      "Enter any word prasanna\n",
      "Enter any word sweshna\n"
     ]
    },
    {
     "name": "stdout",
     "output_type": "stream",
     "text": [
      "['a', 'e', 'h', 'n', 'p', 'r', 's', 'w']\n",
      "['a', 'n', 's']\n",
      "['e', 'h', 'p', 'r', 'w']\n"
     ]
    }
   ],
   "source": [
    "# Function to return letters that appear in at least one of the two words\n",
    "def letters_in_at_least_one(first_word, second_word):\n",
    "    return sorted(set(first_word) | set(second_word))\n",
    "\n",
    "# Function to return letters that appear in both words\n",
    "def letters_in_both(first_word, second_word):\n",
    "    return sorted(set(first_word) & set(second_word))\n",
    "\n",
    "# Function to return letters that appear in either word, but not in both\n",
    "def letters_in_either_but_not_both(first_word, second_word):\n",
    "    return sorted(set(first_word) ^ set(second_word))\n",
    "\n",
    "# input taking\n",
    "first_word = input(\"Enter the first word\")\n",
    "second_word = input(\"Enter the second word\")\n",
    "\n",
    "# function calling and printing\n",
    "print(letters_in_at_least_one(first_word, second_word))  # Output: ['a', 'e', 'g', 'l', 'n', 'o', 'p', 'r']\n",
    "print(letters_in_both(first_word, second_word))          # Output: ['a', 'e']\n",
    "print(letters_in_either_but_not_both(first_word, second_word))  # Output: ['g', 'l', 'n', 'o', 'p', 'r']\n"
   ]
  },
  {
   "cell_type": "code",
   "execution_count": 17,
   "id": "2dbabfad-9d90-4cc4-b71d-0e335fb3cbb6",
   "metadata": {},
   "outputs": [
    {
     "name": "stdin",
     "output_type": "stream",
     "text": [
      "Enter the name of a country (or 'exit' to quit):  Nepal\n",
      "Enter the capital of Nepal:  Kathmandu\n"
     ]
    },
    {
     "name": "stdout",
     "output_type": "stream",
     "text": [
      "Kathmandu has been added as the capital of Nepal.\n"
     ]
    },
    {
     "name": "stdin",
     "output_type": "stream",
     "text": [
      "Enter the name of a country (or 'exit' to quit):  India\n",
      "Enter the capital of India:  Delhi\n"
     ]
    },
    {
     "name": "stdout",
     "output_type": "stream",
     "text": [
      "Delhi has been added as the capital of India.\n"
     ]
    },
    {
     "name": "stdin",
     "output_type": "stream",
     "text": [
      "Enter the name of a country (or 'exit' to quit):  Nepal\n"
     ]
    },
    {
     "name": "stdout",
     "output_type": "stream",
     "text": [
      "The capital of Nepal is Kathmandu.\n"
     ]
    },
    {
     "name": "stdin",
     "output_type": "stream",
     "text": [
      "Enter the name of a country (or 'exit' to quit):  exit\n"
     ]
    }
   ],
   "source": [
    "def dic_countries():\n",
    "    countries_capitals = {}\n",
    "    \n",
    "    while True:\n",
    "        country = input(\"Enter the name of a country (or 'exit' to quit): \").strip().lower()\n",
    "        if country == 'exit':\n",
    "            break\n",
    "        if country in countries_capitals:\n",
    "            print(f\"The capital of {country.capitalize()} is {countries_capitals[country]}.\")\n",
    "        else:\n",
    "            capital = input(f\"Enter the capital of {country.capitalize()}: \").strip()\n",
    "            countries_capitals[country] = capital\n",
    "            print(f\"{capital} has been added as the capital of {country.capitalize()}.\")\n",
    "\n",
    "# Run the program\n",
    "dic_countries()\n"
   ]
  },
  {
   "cell_type": "code",
   "execution_count": 18,
   "id": "43394d4c-a795-47e8-8ac3-c89fbe98fa12",
   "metadata": {},
   "outputs": [
    {
     "name": "stdin",
     "output_type": "stream",
     "text": [
      "Enter a message to see common letters within the message:  i have something to say to you\n"
     ]
    },
    {
     "name": "stdout",
     "output_type": "stream",
     "text": [
      "The six most common letters are:\n",
      "o: 4\n",
      "t: 3\n",
      "i: 2\n",
      "h: 2\n",
      "a: 2\n",
      "e: 2\n"
     ]
    }
   ],
   "source": [
    "from collections import Counter\n",
    "\n",
    "def most_common_letters(message):\n",
    "    # Convert the message to lowercase\n",
    "    message = message.lower()\n",
    "    # Count the frequency of alphabetic characters\n",
    "    letter_counts = Counter(filter(str.isalpha, message))\n",
    "    # Get the six most common letters\n",
    "    most_common = letter_counts.most_common(6)\n",
    "    return most_common\n",
    "\n",
    "# Get user input\n",
    "message = input(\"Enter a message to see common letters within the message: \")\n",
    "\n",
    "# Call the function and store the result\n",
    "top_six = most_common_letters(message)\n",
    "\n",
    "# Print the six most common letters\n",
    "print(\"The six most common letters are:\")\n",
    "for letter, count in top_six:\n",
    "    print(f\"{letter}: {count}\")"
   ]
  },
  {
   "cell_type": "code",
   "execution_count": null,
   "id": "e65651d8-3229-4365-af1c-29d9de1c214c",
   "metadata": {},
   "outputs": [],
   "source": []
  }
 ],
 "metadata": {
  "kernelspec": {
   "display_name": "Python 3 (ipykernel)",
   "language": "python",
   "name": "python3"
  },
  "language_info": {
   "codemirror_mode": {
    "name": "ipython",
    "version": 3
   },
   "file_extension": ".py",
   "mimetype": "text/x-python",
   "name": "python",
   "nbconvert_exporter": "python",
   "pygments_lexer": "ipython3",
   "version": "3.12.8"
  }
 },
 "nbformat": 4,
 "nbformat_minor": 5
}

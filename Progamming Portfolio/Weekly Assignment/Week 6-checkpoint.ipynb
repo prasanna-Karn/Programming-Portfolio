{
 "cells": [
  {
   "cell_type": "code",
   "execution_count": 8,
   "id": "5790b251-6173-4bc8-9587-c95486d3271d",
   "metadata": {},
   "outputs": [
    {
     "name": "stdin",
     "output_type": "stream",
     "text": [
      "enter the number 239\n"
     ]
    },
    {
     "name": "stdout",
     "output_type": "stream",
     "text": [
      "11101111\n"
     ]
    }
   ],
   "source": [
    "def to_binary(number):\n",
    "    if number < 0:\n",
    "        raise ValueError(\"Only positive integers are allowed\")\n",
    "   \n",
    "    return bin(number)[2:]\n",
    "\n",
    "# Test the function\n",
    "user_input=int(input(\"enter the number\"))\n",
    "print(to_binary(user_input))  # Output: 1010\n"
   ]
  },
  {
   "cell_type": "code",
   "execution_count": 15,
   "id": "b12d3cf0-5f32-4ba4-99f2-57677342cb6f",
   "metadata": {},
   "outputs": [
    {
     "name": "stdin",
     "output_type": "stream",
     "text": [
      "enter any positive integers 234\n"
     ]
    },
    {
     "name": "stdout",
     "output_type": "stream",
     "text": [
      "The factors of 234 are: [1, 2, 3, 6, 9, 13, 18, 26, 39, 78, 117, 234]\n"
     ]
    }
   ],
   "source": [
    "def find_factors(number):\n",
    "    if number <= 0:\n",
    "        raise ValueError(\"Only positive integers are allowed\")\n",
    "    factors = []\n",
    "    for i in range(1, number + 1):\n",
    "        if number % i == 0:\n",
    "            factors.append(i)\n",
    "    return factors\n",
    "\n",
    "# Test the function\n",
    "user_input=int(input(\"enter any positive integers\"))\n",
    "print(f\"The factors of {user_input} are: {find_factors(user_input)}\")  # Output: [1, 2, 3, 4, 6, 12]\n"
   ]
  },
  {
   "cell_type": "code",
   "execution_count": 24,
   "id": "8c372973-cab7-465a-b361-b8f67450c84a",
   "metadata": {},
   "outputs": [
    {
     "name": "stdin",
     "output_type": "stream",
     "text": [
      "Enter any number greater than 1 =  4\n"
     ]
    },
    {
     "name": "stdout",
     "output_type": "stream",
     "text": [
      "False\n"
     ]
    }
   ],
   "source": [
    "def is_prime(number):\n",
    "    if number <= 1:\n",
    "        return False\n",
    "    for i in range(2, int(number ** 0.5) + 1):\n",
    "        if number % i == 0:\n",
    "            return False\n",
    "    return True\n",
    "\n",
    "# Test the function\n",
    "user_input=int(input(\"Enter any number greater than 1 = \"))\n",
    "print(is_prime(user_input))  # Output: True or false"
   ]
  },
  {
   "cell_type": "code",
   "execution_count": 25,
   "id": "52b8f91f-7056-4a83-ac75-22340078e599",
   "metadata": {},
   "outputs": [
    {
     "name": "stdin",
     "output_type": "stream",
     "text": [
      "Enter a message prsannakarn\n"
     ]
    },
    {
     "name": "stdout",
     "output_type": "stream",
     "text": [
      "nrakannasrp\n"
     ]
    }
   ],
   "source": [
    "def encrypt_message(message):\n",
    "    encrypted = message.replace(\" \", \"\")[::-1]\n",
    "    return encrypted\n",
    "\n",
    "# Test the function\n",
    "user_text=str(input(\"Enter a message\"))\n",
    "print(encrypt_message(user_text))  # Output: opposite of the user_text\n"
   ]
  },
  {
   "cell_type": "code",
   "execution_count": 46,
   "id": "287a150a-2eb1-4b0d-8928-f8805196055f",
   "metadata": {},
   "outputs": [
    {
     "name": "stdin",
     "output_type": "stream",
     "text": [
      "Enter your secret message:  blaaaa\n"
     ]
    },
    {
     "name": "stdout",
     "output_type": "stream",
     "text": [
      "The encrypted message is bMLplQWTaNnGaNsIaqDRakJl and the interval used is 3\n"
     ]
    }
   ],
   "source": [
    "import random\n",
    "import string\n",
    "\n",
    "def random_encrypt(message):\n",
    "    filler_length = random.randint(2, 5)\n",
    "    encrypted_message = []\n",
    "\n",
    "    for char in message:\n",
    "        encrypted_message.append(char)\n",
    "        for i in range(filler_length):\n",
    "            encrypted_message.append(random.choice(string.ascii_letters))\n",
    "    \n",
    "    encrypted_string = ''.join(encrypted_message)\n",
    "    return encrypted_string, filler_length\n",
    "\n",
    "\n",
    "# Test the function\n",
    "\n",
    "encrypted_code = input(\"Enter your secret message: \")\n",
    "encrypted_message, filler_length = random_encrypt(encrypted_code)\n",
    "print(f\"The encrypted message is {encrypted_message} and the interval used is {filler_length}\")\n"
   ]
  },
  {
   "cell_type": "code",
   "execution_count": null,
   "id": "0146b594-e8b7-4f0d-b386-7818197a1409",
   "metadata": {},
   "outputs": [],
   "source": [
    "def decrypt_message(encrypted_message, interval):\n",
    "    decrypted_message = encrypted_message[::interval]\n",
    "    return decrypted_message\n",
    "\n",
    "# Test the function\n",
    "encrypted_msg = \"sxyexynxydxycxyhxyexyexysxye\"\n",
    "interval = 2\n",
    "print(decrypt_message(encrypted_msg, interval))  # Output: \"send cheese\"\n"
   ]
  }
 ],
 "metadata": {
  "kernelspec": {
   "display_name": "Python 3 (ipykernel)",
   "language": "python",
   "name": "python3"
  },
  "language_info": {
   "codemirror_mode": {
    "name": "ipython",
    "version": 3
   },
   "file_extension": ".py",
   "mimetype": "text/x-python",
   "name": "python",
   "nbconvert_exporter": "python",
   "pygments_lexer": "ipython3",
   "version": "3.12.8"
  }
 },
 "nbformat": 4,
 "nbformat_minor": 5
}

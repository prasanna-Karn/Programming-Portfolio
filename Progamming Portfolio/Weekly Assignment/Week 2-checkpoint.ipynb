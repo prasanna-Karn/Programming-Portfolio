{
 "cells": [
  {
   "cell_type": "markdown",
   "id": "95d0e0ec-28af-48ec-acbe-8520cf2bc66b",
   "metadata": {},
   "source": [
    "Question 1.\n",
    "\n",
    "Last week you wrote a program that printed out a cheery greeting including your\n",
    "name. Take a copy of it, and modify it so that the user enters their name at the\n",
    "keyboard, and then receives a greeting. For example:\n",
    "Hello, what is your name? Mr Apricot\n",
    "Hello, Mr Apricot. Good to meet you!"
   ]
  },
  {
   "cell_type": "code",
   "execution_count": 4,
   "id": "23e58a60-cf05-4359-bc9f-14e148bb9a0d",
   "metadata": {},
   "outputs": [
    {
     "name": "stdout",
     "output_type": "stream",
     "text": [
      "Hello, what is your name?\n"
     ]
    },
    {
     "name": "stdin",
     "output_type": "stream",
     "text": [
      "enter your name prasun\n"
     ]
    },
    {
     "name": "stdout",
     "output_type": "stream",
     "text": [
      "Hello, Mr prasun .  Good to meet you!\n"
     ]
    }
   ],
   "source": [
    "print(\"Hello, what is your name?\")\n",
    "name=input(\"enter your name\")\n",
    "print(\"Hello, Mr\",name,\".\",\" Good to meet you!\")"
   ]
  },
  {
   "cell_type": "markdown",
   "id": "98fb291f-a93e-4217-94f5-c65466daf3be",
   "metadata": {},
   "source": [
    "Question 2. \n",
    "\n",
    "Write a program that prompts a user to enter a temperature in Celsius, and then\n",
    "displays the corresponding temperature in Fahrenheit, like so:\n",
    "Enter a temperature in Celsius: 32.5\n",
    "32.5C is equivalent to 90.5F."
   ]
  },
  {
   "cell_type": "code",
   "execution_count": 10,
   "id": "533bc172-8033-4fba-ae1d-5d6eda796e1d",
   "metadata": {},
   "outputs": [
    {
     "name": "stdin",
     "output_type": "stream",
     "text": [
      "Enter a temperature in Celsius:  32\n"
     ]
    },
    {
     "name": "stdout",
     "output_type": "stream",
     "text": [
      "32.0 C  is equivalent to  89.6 F.\n"
     ]
    }
   ],
   "source": [
    "temp=float(input(\"Enter a temperature in Celsius: \"))\n",
    "calc=(temp*1.8)+32\n",
    "print( temp,\"C\",\" is equivalent to \" ,calc,\"F.\")"
   ]
  },
  {
   "cell_type": "markdown",
   "id": "6672fc9a-2e8b-4b7b-8ea7-b4f6ee72a641",
   "metadata": {},
   "source": [
    "Question 3. \n",
    "\n",
    "The Head of Computing at the University of Poppleton is tasked with dividing a\n",
    "group of students into lab groups. A lab group is usually 24 students, but this is\n",
    "sometimes varied to create groups of similar size. Write a program that prompts for\n",
    "the number of students and group size, and then displays how many groups will be\n",
    "needed and how many will be left over in a smaller group.\n",
    "How many students? 113\n",
    "Required group size? 22\n",
    "There will be 5 groups with 3 students left over.\n",
    "For bonus credit, see if you can fix the grammar in the output. So if there were 101\n",
    "students in groups of 20 the output would be:\n",
    "There will be 5 groups with 1 student left over."
   ]
  },
  {
   "cell_type": "code",
   "execution_count": 26,
   "id": "5f2bcf7d-4bb9-4a71-b715-32ff249e246c",
   "metadata": {},
   "outputs": [
    {
     "name": "stdin",
     "output_type": "stream",
     "text": [
      "How many students there are?  20\n",
      "How many groups do you want?  15\n"
     ]
    },
    {
     "name": "stdout",
     "output_type": "stream",
     "text": [
      "There will be 1 groups with 5 students left over.\n"
     ]
    }
   ],
   "source": [
    "stud=int(input(\"How many students there are? \"))\n",
    "grp=int(input(\"How many groups do you want? \"))\n",
    "calc=(stud//grp)\n",
    "rem=(stud % grp)\n",
    "if rem <=1:\n",
    "    print(\"There will be\",calc ,\"groups with\", rem,\"student left over.\")\n",
    "else:\n",
    "     print(\"There will be\",calc ,\"groups with\", rem,\"students left over.\")"
   ]
  },
  {
   "cell_type": "markdown",
   "id": "14808979-10c2-4bb1-bb15-3b68a90e8fd1",
   "metadata": {},
   "source": [
    "Question 4.\n",
    "\n",
    "A kindly teacher wishes to distribute a tub of sweets between her pupils. She will\n",
    "first count the sweets and then divide them according to how many pupils attend\n",
    "that day. Write a program that will tell the teacher how many sweets to give to each\n",
    "pupil, and how many she will have left over."
   ]
  },
  {
   "cell_type": "code",
   "execution_count": 33,
   "id": "79ad2876-9dc4-4dc2-95fb-2171dc5b3060",
   "metadata": {},
   "outputs": [
    {
     "name": "stdin",
     "output_type": "stream",
     "text": [
      "Enter the number of Sweets avialable 200\n",
      "Enter the number of pupils present 150\n"
     ]
    },
    {
     "name": "stdout",
     "output_type": "stream",
     "text": [
      "There will be 1 sweets to give to each pupil and 50  sweets remaining.\n"
     ]
    }
   ],
   "source": [
    "swe=int(input(\"Enter the number of Sweets avialable\"))\n",
    "pup=int(input(\"Enter the number of pupils present\"))\n",
    "calc=(swe//pup)\n",
    "rem=(swe%pup)\n",
    "if rem <=1:\n",
    "    print(\"There will be\", calc , \"sweets to give to each pupil and\", rem, \" sweet remaining.\")\n",
    "else:\n",
    "    print(\"There will be\", calc , \"sweets to give to each pupil and\", rem, \" sweets remaining.\")"
   ]
  },
  {
   "cell_type": "code",
   "execution_count": null,
   "id": "bcb4ba3f-c364-409d-aa4f-97b2bfcc2814",
   "metadata": {},
   "outputs": [],
   "source": []
  }
 ],
 "metadata": {
  "kernelspec": {
   "display_name": "Python 3 (ipykernel)",
   "language": "python",
   "name": "python3"
  },
  "language_info": {
   "codemirror_mode": {
    "name": "ipython",
    "version": 3
   },
   "file_extension": ".py",
   "mimetype": "text/x-python",
   "name": "python",
   "nbconvert_exporter": "python",
   "pygments_lexer": "ipython3",
   "version": "3.13.0"
  }
 },
 "nbformat": 4,
 "nbformat_minor": 5
}

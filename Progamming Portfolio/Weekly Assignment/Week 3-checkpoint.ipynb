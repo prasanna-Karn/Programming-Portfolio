{
 "cells": [
  {
   "cell_type": "markdown",
   "id": "630644df-7ff7-4142-96a5-a6562a028ef9",
   "metadata": {},
   "source": [
    "Question 1. \n",
    "\n",
    "Modify your greeting program so that if the user does not enter a name (i.e. they\n",
    "just press enter), the program responds \"Hello, Stranger!\". Otherwise it should print\n",
    "a greeting with their name as before."
   ]
  },
  {
   "cell_type": "code",
   "execution_count": 5,
   "id": "297ad6c7-0bba-49ff-a83c-7f04485d6a6a",
   "metadata": {},
   "outputs": [
    {
     "name": "stdin",
     "output_type": "stream",
     "text": [
      "Whats your name? pro\n"
     ]
    },
    {
     "name": "stdout",
     "output_type": "stream",
     "text": [
      "Hello, pro !\n"
     ]
    }
   ],
   "source": [
    "name=input(\"Whats your name?\")\n",
    "\n",
    "if name==\"\":\n",
    "    print(\"Hello, Stranger!\") \n",
    "else:\n",
    "    print(\"Hello,\",name,\"!\")"
   ]
  },
  {
   "cell_type": "markdown",
   "id": "aff9c3f1-a208-47ae-b240-b835af1fe371",
   "metadata": {},
   "source": [
    "Question 2. \n",
    "\n",
    "Write a program that simulates the way in which a user might choose a password.\n",
    "The program should prompt for a new password, and then prompt again. If the two\n",
    "passwords entered are the same the program should say \"Password Set\" or\n",
    "similar, otherwise it should report an error."
   ]
  },
  {
   "cell_type": "code",
   "execution_count": 9,
   "id": "c8634ca7-16ac-45e3-9132-00226f228311",
   "metadata": {},
   "outputs": [
    {
     "name": "stdin",
     "output_type": "stream",
     "text": [
      "Please enter a password pro\n",
      "Please Re-enter your password pro\n"
     ]
    },
    {
     "name": "stdout",
     "output_type": "stream",
     "text": [
      "Your Password has been set\n"
     ]
    }
   ],
   "source": [
    "pas=input(\"Please enter a password\")\n",
    "check=input(\"Please Re-enter your password\")\n",
    "if pas==check:\n",
    "    print(\"Your Password has been set\")\n",
    "else:\n",
    "    print(\"An error has been occured\")\n"
   ]
  },
  {
   "cell_type": "markdown",
   "id": "f3bff602-17cc-409a-9ed0-efe69a72ff8a",
   "metadata": {},
   "source": [
    "Question 3. \n",
    "\n",
    "Modify your previous program so that the password must be between 8 and 12\n",
    "characters (inclusive) long."
   ]
  },
  {
   "cell_type": "code",
   "execution_count": 17,
   "id": "8d9e85f4-7826-4583-86a6-50fac38145c0",
   "metadata": {},
   "outputs": [
    {
     "name": "stdin",
     "output_type": "stream",
     "text": [
      "Please enter a password pro\n",
      "Please Re-enter your password pro\n"
     ]
    },
    {
     "name": "stdout",
     "output_type": "stream",
     "text": [
      "Password Length doesn't match\n"
     ]
    }
   ],
   "source": [
    "pas=input(\"Please enter a password between 8-12 letters\")\n",
    "check=input(\"Please Re-enter your password\")\n",
    "#if len( pas ) >=8 and len(pas) <=12 :\n",
    "if 8<= len(pas) <=12:\n",
    "    if pas==check:\n",
    "        print(\"Your Password has been set\")\n",
    "    else:\n",
    "        print(\"Error, Password doesn't match\")\n",
    "else:\n",
    "    print(\"Password Length doesn't match\")\n",
    "\n"
   ]
  },
  {
   "cell_type": "markdown",
   "id": "3f88687d-ab3a-47b4-9efc-e62a17abb945",
   "metadata": {},
   "source": [
    "Question 4.\n",
    "\n",
    "Modify your program again so that the chosen password cannot be one of a list of\n",
    "common passwords, defined thus:\n",
    "BAD_PASSWORDS = ['password', 'letmein', 'sesame', 'hello', 'justinbieber']"
   ]
  },
  {
   "cell_type": "code",
   "execution_count": 53,
   "id": "5c8f6e2a-a793-4565-82f6-c4d655f24986",
   "metadata": {},
   "outputs": [
    {
     "name": "stdin",
     "output_type": "stream",
     "text": [
      "Please enter a password between 8-12 letters password\n",
      "Please Re-enter your password password\n"
     ]
    },
    {
     "name": "stdout",
     "output_type": "stream",
     "text": [
      "Password cannot be among Common Passwords. for example: ['password', 'letmein', 'sesame', 'hello', 'justinbieber']\n"
     ]
    }
   ],
   "source": [
    "pas=input(\"Please enter a password between 8-12 letters\")\n",
    "check=input(\"Please Re-enter your password\")\n",
    "BAD_PASSWORDS = ['password', 'letmein', 'sesame', 'hello', 'justinbieber']\n",
    "if 8<= len(pas) <=12:\n",
    "#if len( pas ) >=8 and len(pas) <=12 :\n",
    "    if pas in BAD_PASSWORDS:\n",
    "        print(\"Password cannot be among Common Passwords. for example: ['password', 'letmein', 'sesame', 'hello', 'justinbieber']\")   \n",
    "    else:\n",
    "        if pas==check:\n",
    "            print(\"Your Password has been set\")\n",
    "        else:\n",
    "            print(\"Error, Password doesn't match\")  \n",
    "else:\n",
    "     print(\"Password Length doesn't match\")\n",
    "\n",
    "\n"
   ]
  },
  {
   "cell_type": "markdown",
   "id": "39719a6d-16ae-418d-b6e0-3c910bbc47ed",
   "metadata": {},
   "source": [
    "Question 5.\n",
    "\n",
    "Modify your program a final time so that it executes until the user successfully\n",
    "chooses a password. That is, if the password chosen fails any of the checks, the\n",
    "program should return to asking for the password the first time."
   ]
  },
  {
   "cell_type": "code",
   "execution_count": 55,
   "id": "305761c9-5398-4b40-96ce-f4985598a5f1",
   "metadata": {},
   "outputs": [
    {
     "name": "stdin",
     "output_type": "stream",
     "text": [
      "Please enter a password between 8-12 letters  \n",
      "Please Re-enter your password \n"
     ]
    },
    {
     "name": "stdout",
     "output_type": "stream",
     "text": [
      "Password Length doesn't match\n"
     ]
    },
    {
     "name": "stdin",
     "output_type": "stream",
     "text": [
      "Please enter a password between 8-12 letters pro\n",
      "Please Re-enter your password pro\n"
     ]
    },
    {
     "name": "stdout",
     "output_type": "stream",
     "text": [
      "Password Length doesn't match\n"
     ]
    },
    {
     "name": "stdin",
     "output_type": "stream",
     "text": [
      "Please enter a password between 8-12 letters prasannakarn\n",
      "Please Re-enter your password prasannakarn\n"
     ]
    },
    {
     "name": "stdout",
     "output_type": "stream",
     "text": [
      "Your Password has been set\n"
     ]
    }
   ],
   "source": [
    "while True:\n",
    "    pas=input(\"Please enter a password between 8-12 letters\")\n",
    "    check=input(\"Please Re-enter your password\")\n",
    "    BAD_PASSWORDS = ['password', 'letmein', 'sesame', 'hello', 'justinbieber']\n",
    "    if 8<= len(pas) <=12:\n",
    "    #if len( pas ) >=8 and len(pas) <=12 :\n",
    "        if pas in BAD_PASSWORDS:\n",
    "            print(\"Password cannot be among Common Passwords. for example: ['password', 'letmein', 'sesame', 'hello', 'justinbieber']\")   \n",
    "        else:\n",
    "            if pas==check:\n",
    "                print(\"Your Password has been set\")\n",
    "                break\n",
    "            else:\n",
    "                print(\"Error, Password doesn't match\")  \n",
    "    else:\n",
    "         print(\"Password Length doesn't match\")"
   ]
  },
  {
   "cell_type": "markdown",
   "id": "76575a57-b8f2-404c-83fe-6217d10c3113",
   "metadata": {},
   "source": [
    "Question 6.\n",
    "\n",
    "Write a program that displays the \"Seven Times Table\". That is, the result of\n",
    "multiplying 7 by every number from 0 to 12 inclusive. The output might start:\n",
    "0 x 7 = 0\n",
    "1 x 7 = 7\n",
    "2 x 7 = 14\n",
    "and so on."
   ]
  },
  {
   "cell_type": "code",
   "execution_count": 57,
   "id": "c8537429-f956-4d96-89fe-18a0367a8431",
   "metadata": {},
   "outputs": [
    {
     "name": "stdout",
     "output_type": "stream",
     "text": [
      "0 * 7 = 0\n",
      "1 * 7 = 7\n",
      "2 * 7 = 14\n",
      "3 * 7 = 21\n",
      "4 * 7 = 28\n",
      "5 * 7 = 35\n",
      "6 * 7 = 42\n",
      "7 * 7 = 49\n",
      "8 * 7 = 56\n",
      "9 * 7 = 63\n",
      "10 * 7 = 70\n",
      "11 * 7 = 77\n",
      "12 * 7 = 84\n"
     ]
    }
   ],
   "source": [
    "for num in range(13):\n",
    "    mul=num*7\n",
    "    print(num,\"* 7 =\",mul)"
   ]
  },
  {
   "cell_type": "markdown",
   "id": "7998c8b8-e274-42aa-8221-b931d2a9eba2",
   "metadata": {},
   "source": [
    "Question 7.\n",
    "\n",
    "\n",
    "Modify your \"Times Table\" program so that the user enters the number of the table\n",
    "they require. This number should be between 0 and 12 inclusive."
   ]
  },
  {
   "cell_type": "code",
   "execution_count": 60,
   "id": "255744e9-c988-4a18-971a-943a08bb6454",
   "metadata": {},
   "outputs": [
    {
     "name": "stdin",
     "output_type": "stream",
     "text": [
      "Enter a number of the table you require. 12\n"
     ]
    },
    {
     "name": "stdout",
     "output_type": "stream",
     "text": [
      "0 * 12 = 0\n",
      "1 * 12 = 12\n",
      "2 * 12 = 24\n",
      "3 * 12 = 36\n",
      "4 * 12 = 48\n",
      "5 * 12 = 60\n",
      "6 * 12 = 72\n",
      "7 * 12 = 84\n",
      "8 * 12 = 96\n",
      "9 * 12 = 108\n",
      "10 * 12 = 120\n",
      "11 * 12 = 132\n",
      "12 * 12 = 144\n"
     ]
    }
   ],
   "source": [
    "calc=int(input(\"Enter a number of the table you require.\"))\n",
    "for num in range(13):\n",
    "    mul=num*calc\n",
    "    print(num,\"*\",calc, \"=\",mul)"
   ]
  },
  {
   "cell_type": "markdown",
   "id": "ca7a5c83-d409-4703-b4bd-4ec52bfc6ac9",
   "metadata": {},
   "source": [
    "Question 8.\n",
    "\n",
    "\n",
    "Modify the \"Times Table\" again so that the user still enters the number of the table,\n",
    "but if this number is negative the table is printed backwards. So entering \"-7\"\n",
    "would produce the Seven Times Table starting at \"12 times\" down to \"0 times\"."
   ]
  },
  {
   "cell_type": "code",
   "execution_count": 74,
   "id": "7f419dd7-8184-4b04-8981-6f412f8e757c",
   "metadata": {},
   "outputs": [
    {
     "name": "stdin",
     "output_type": "stream",
     "text": [
      "Enter a number of the table you require. -6\n"
     ]
    }
   ],
   "source": [
    "calc=int(input(\"Enter a number of the table you require.\"))\n",
    "if calc>=0:\n",
    "    for num in range(13):\n",
    "        mul=num*calc\n",
    "        print(num,\"*\",calc, \"=\",mul)\n",
    "else:\n",
    "    for num in range(12,-1,-1):\n",
    "        mul=num*calc\n",
    "        print(num,\"*\",calc, \"=\",mul)"
   ]
  },
  {
   "cell_type": "code",
   "execution_count": null,
   "id": "ea1310fb-fbbb-4c67-a76e-ba97da6d5259",
   "metadata": {},
   "outputs": [],
   "source": []
  }
 ],
 "metadata": {
  "kernelspec": {
   "display_name": "Python 3 (ipykernel)",
   "language": "python",
   "name": "python3"
  },
  "language_info": {
   "codemirror_mode": {
    "name": "ipython",
    "version": 3
   },
   "file_extension": ".py",
   "mimetype": "text/x-python",
   "name": "python",
   "nbconvert_exporter": "python",
   "pygments_lexer": "ipython3",
   "version": "3.12.8"
  }
 },
 "nbformat": 4,
 "nbformat_minor": 5
}

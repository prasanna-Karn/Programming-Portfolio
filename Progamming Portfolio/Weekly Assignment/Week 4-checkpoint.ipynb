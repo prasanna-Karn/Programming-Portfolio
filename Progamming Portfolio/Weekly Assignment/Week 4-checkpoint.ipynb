{
 "cells": [
  {
   "cell_type": "markdown",
   "id": "99ea3bbe-3714-4410-976a-34834a19e42c",
   "metadata": {},
   "source": [
    "Question 1.\n",
    "\n",
    "\n",
    "Functions are often used to validate input. Write a function that accepts a single\n",
    "integer as a parameter and returns True if the integer is in the range 0 to 100\n",
    "(inclusive), or False otherwise. Write a short program to test the function."
   ]
  },
  {
   "cell_type": "code",
   "execution_count": 25,
   "id": "e254e710-f4c4-4e2b-82b7-5abfff6f623d",
   "metadata": {},
   "outputs": [
    {
     "name": "stdin",
     "output_type": "stream",
     "text": [
      "enter any number to check 7\n"
     ]
    }
   ],
   "source": [
    "def user_input():\n",
    "    number1=int(input(\"enter any number to check\"))\n",
    "    return number1\n",
    "\n",
    "def check(number1):\n",
    "    return 0<=number1<=100\n",
    "\n",
    "def main():\n",
    "    number1=user_input()\n",
    "    check(number1)\n",
    "\n",
    "def pri():\n",
    "    if check(number1)\n",
    "\n",
    "if __name__ == \"__main__\":\n",
    "    main()\n",
    "\n"
   ]
  },
  {
   "cell_type": "markdown",
   "id": "c6ed03b4-eb20-4812-adf8-d46f9fd98cbe",
   "metadata": {},
   "source": [
    "Question 2.\n",
    "\n",
    "\n",
    "Write a function that has a single string as its parameter, and returns the number of\n",
    "uppercase letters, and the number of lowercase letters in the string. Test the\n",
    "function with a short program."
   ]
  },
  {
   "cell_type": "code",
   "execution_count": 51,
   "id": "363f06ef-09b5-4355-a010-5d4bc35077e1",
   "metadata": {},
   "outputs": [
    {
     "name": "stdin",
     "output_type": "stream",
     "text": [
      "enter any string hiiejied\n"
     ]
    },
    {
     "name": "stdout",
     "output_type": "stream",
     "text": [
      "The number of lowercase is 1\n",
      "The number of lowercase is 2\n",
      "The number of lowercase is 3\n",
      "The number of lowercase is 4\n",
      "The number of lowercase is 5\n",
      "The number of lowercase is 6\n",
      "The number of lowercase is 7\n",
      "The number of lowercase is 8\n"
     ]
    }
   ],
   "source": [
    "def count_the_case(name):\n",
    "    name=str(input(\"enter any string\"))\n",
    "    uppercase=0\n",
    "    lowercase=0\n",
    "    for char in name:\n",
    "        if char.isupper():\n",
    "            uppercase+=1\n",
    "            print(\"The number of uppercase is\",uppercase)\n",
    "        if char.islower():\n",
    "            lowercase+=1\n",
    "            print(\"The number of lowercase is\",lowercase)\n",
    "name1=count_the_case(name)   "
   ]
  },
  {
   "cell_type": "markdown",
   "id": "1dd5d67d-6d33-42eb-90ae-9fa811f8a7e8",
   "metadata": {},
   "source": [
    "Question 3.\n",
    "\n",
    "\n",
    "Modify your \"greetings\" program so that the first letter of the name entered is\n",
    "always in uppercase with the rest in lowercase. This should happen even if the user\n",
    "entered their name differently. So if the user entered arthur, ARTHUR, or even\n",
    "arTHur the name should be displayed as Arthur."
   ]
  },
  {
   "cell_type": "code",
   "execution_count": 53,
   "id": "67f5133a-d0b9-4282-880f-92530d7d5028",
   "metadata": {},
   "outputs": [
    {
     "name": "stdin",
     "output_type": "stream",
     "text": [
      "What is your name? hi\n"
     ]
    },
    {
     "name": "stdout",
     "output_type": "stream",
     "text": [
      "Hello, Hi Welcome!\n"
     ]
    }
   ],
   "source": [
    "def check(name):\n",
    "    name=str(input(\"What is your name?\"))\n",
    "\n",
    "    rename=name.capitalize()\n",
    "\n",
    "    print(\"Hello,\",rename,\"Welcome!\")\n",
    "check(name)   "
   ]
  },
  {
   "cell_type": "markdown",
   "id": "d71159bf-6dbe-43bd-9a2e-c0c689981bdd",
   "metadata": {},
   "source": [
    "Question 4. \n",
    "\n",
    "\n",
    "When processing data it is often useful to remove the last character from some\n",
    "input (it is often a newline). Write and test a function that takes a string parameter\n",
    "and returns it with the last character removed. (If the string contains one or fewer\n",
    "characters, return it unchanged.)"
   ]
  },
  {
   "cell_type": "code",
   "execution_count": 54,
   "id": "2d00657c-c742-42c4-bc6c-f9d58480de7c",
   "metadata": {},
   "outputs": [
    {
     "name": "stdin",
     "output_type": "stream",
     "text": [
      "Enter any String value hiiifam\n"
     ]
    },
    {
     "name": "stdout",
     "output_type": "stream",
     "text": [
      "hiiifa\n"
     ]
    }
   ],
   "source": [
    "def check(name):\n",
    "    name=str(input(\"Enter any String value\"))\n",
    "    if len(name)<=1:\n",
    "        print(name)\n",
    "    else:\n",
    "        print(name[:-1]) #slicling from the last character. \n",
    "check(name)"
   ]
  },
  {
   "cell_type": "markdown",
   "id": "cd6b584d-b26f-4591-869a-498f8e151d72",
   "metadata": {},
   "source": [
    "Question 5. \n",
    "\n",
    "Write and test a function that converts a temperature measured in degrees\n",
    "centigrade into the equivalent in fahrenheit, and another that does the reverse\n",
    "conversion. Test both functions. (Google will find you the formulae)."
   ]
  },
  {
   "cell_type": "code",
   "execution_count": 48,
   "id": "86c9b0b0-3723-4888-8860-34925e75280d",
   "metadata": {},
   "outputs": [
    {
     "name": "stdin",
     "output_type": "stream",
     "text": [
      "enter a temperature in Celcius 30\n",
      "enter a temperature in Fahrenheit 45\n"
     ]
    },
    {
     "name": "stdout",
     "output_type": "stream",
     "text": [
      "The equivalent temperature of 30.0C in Fahrenheit is 86.0F\n",
      "The equivalent temperature of 45.0F in Celsius is 23.400000000000002C\n"
     ]
    }
   ],
   "source": [
    "def temp_centigrade(cent=float(input(\"enter a temperature in Celcius\"))):\n",
    "    calc1=(cent*1.8)+32\n",
    "    print(f\"The equivalent temperature of {cent}C in Fahrenheit is {calc1}F\")\n",
    "    return cent\n",
    "    \n",
    "    \n",
    "def temp_fahrenheit(far=float(input(\"enter a temperature in Fahrenheit\"))):\n",
    "    calc2=(far-32)*1.8\n",
    "    print(f\"The equivalent temperature of {far}F in Celsius is {calc2}C\")\n",
    "    return far\n",
    "\n",
    "val1=temp_centigrade()\n",
    "val2=temp_fahrenheit()"
   ]
  },
  {
   "cell_type": "markdown",
   "id": "574db682-7cdb-4802-bd5d-0241db69bfd1",
   "metadata": {},
   "source": [
    "Question 6.\n",
    "\n",
    "\n",
    "Write a program that takes a centigrade temperature and displays the equivalent in\n",
    "fahrenheit. The input should be a number followed by a letter C. The output should\n",
    "be in the same format."
   ]
  },
  {
   "cell_type": "code",
   "execution_count": 45,
   "id": "3bc4159f-ffc4-4931-856e-18d0b0fd857f",
   "metadata": {},
   "outputs": [
    {
     "name": "stdin",
     "output_type": "stream",
     "text": [
      "enter a temperature in Celcius 30C\n"
     ]
    },
    {
     "name": "stdout",
     "output_type": "stream",
     "text": [
      "The value is 86.0F\n"
     ]
    }
   ],
   "source": [
    "def celsius_to_float(temp):\n",
    "    return float(temp[:-1])\n",
    "\n",
    "\n",
    "\n",
    "def temp_centigrade():\n",
    "\n",
    "    Temperatures=[]\n",
    "\n",
    "    temp=input(\"enter a temperature in Celcius\")\n",
    "    if temp.endswith(\"C\"):\n",
    "        Temperatures.append(celsius_to_float(temp))\n",
    "        val=Temperatures[0]   # we cannot do arthimatic solutions to a list so we make a seperate variable for that list\n",
    "        calc1=(val*1.8)+32\n",
    "        print(f\"The value is {calc1}F\")\n",
    "        return\n",
    "\n",
    "    else:\n",
    "        print(\"Invalid input syntex. Please enter the temperature with C at the end\")\n",
    "        \n",
    "\n",
    "temp_centigrade()"
   ]
  },
  {
   "cell_type": "markdown",
   "id": "42011e6f-915c-4a5e-84bc-61adde0385ac",
   "metadata": {},
   "source": [
    "Question 7.\n",
    "\n",
    "Write a program that reads 6 temperatures (in the same format as before), and\n",
    "displays the maximum, minimum, and mean of the values."
   ]
  },
  {
   "cell_type": "code",
   "execution_count": 23,
   "id": "72cfa19a-5fa2-495a-88d5-694b8264225e",
   "metadata": {},
   "outputs": [
    {
     "name": "stdin",
     "output_type": "stream",
     "text": [
      "Enter 1 temperature in Celsius. << eg. 30C >> 5\n"
     ]
    },
    {
     "name": "stdout",
     "output_type": "stream",
     "text": [
      "Invalid input syntex. Please enter the temperature with C at the end\n"
     ]
    }
   ],
   "source": [
    "import statistics\n",
    "\n",
    "def celsius_to_float_value(temp):\n",
    "    return float(temp[:-1])\n",
    "    \n",
    "def main_function():\n",
    "    temperatures_list = []\n",
    "    for i in range (1,7):\n",
    "        temp= input(f\"Enter {i} temperature in Celsius. << eg. 30C >>\")\n",
    "        if temp.endswith(\"C\"):\n",
    "            temperatures_list.append(celsius_to_float_value(temp))\n",
    "        else:\n",
    "            print(\"Invalid input syntex. Please enter the temperature with C at the end\")\n",
    "            return  #to stop the program if user has put the wrong input we used return\n",
    "\n",
    "\n",
    "    max_temp = max(temperatures_list)\n",
    "    min_temp = min(temperatures_list)\n",
    "    mean_temp =statistics.mean(temperatures_list)\n",
    "\n",
    "    print(f\" The Maximun Temperature is {max_temp}C\")\n",
    "    print(f\" The Minimun Temperature is {min_temp}C\")\n",
    "    print(f\" The Average Temperature is {mean_temp}C\")\n",
    "\n",
    "main_function()\n",
    "            "
   ]
  },
  {
   "cell_type": "markdown",
   "id": "2e68bce3-f524-4edc-9537-e293535f8702",
   "metadata": {},
   "source": [
    "Question 8.\n",
    "\n",
    "Modify the previous program so that it can process any number of values. The input\n",
    "terminates when the user just pressed \"Enter\" at the prompt rather than entering a\n",
    "value."
   ]
  },
  {
   "cell_type": "code",
   "execution_count": 59,
   "id": "387d63f0-1caf-48d4-ae57-e3f4fed59714",
   "metadata": {},
   "outputs": [
    {
     "name": "stdin",
     "output_type": "stream",
     "text": [
      "Enter the temperature in Celsius. \n"
     ]
    },
    {
     "name": "stdout",
     "output_type": "stream",
     "text": [
      "You have decided to end the program\n",
      "There are no Temperatures entered\n"
     ]
    }
   ],
   "source": [
    "import statistics\n",
    "\n",
    "def celsius_to_float_value(temp):\n",
    "    return int(temp[:-1])\n",
    "    \n",
    "def main_function():\n",
    "    temperatures_list = []\n",
    "    while True:\n",
    "        temp= input(f\"Enter the temperature in Celsius.\")\n",
    "        if temp==\"\":\n",
    "            print(\"You have decided to end the program\")\n",
    "            break  #to stop the program if user has put the wrong input we used return\n",
    "        elif temp.endswith(\"C\"):\n",
    "            temperatures_list.append(celsius_to_float_value(temp))\n",
    "            \n",
    "        else:\n",
    "            print(\"Invalid input syntex. Please enter the temperature with C at the end\")\n",
    "            \n",
    "\n",
    "    if temperatures_list:\n",
    "        \n",
    "        max_temp = max(temperatures_list)\n",
    "        min_temp = min(temperatures_list)\n",
    "        mean_temp =statistics.mean(temperatures_list)\n",
    "    \n",
    "        print(f\" The Maximun Temperature is {max_temp}C\")\n",
    "        print(f\" The Minimun Temperature is {min_temp}C\")\n",
    "        print(f\" The Average Temperature is {mean_temp}C\")\n",
    "    \n",
    "    else:\n",
    "        print(\"There are no Temperatures entered\")\n",
    "\n",
    "main_function()\n",
    "            "
   ]
  },
  {
   "cell_type": "code",
   "execution_count": null,
   "id": "3ab7cc80-777d-4fcd-a70d-ddecacec8716",
   "metadata": {},
   "outputs": [],
   "source": []
  }
 ],
 "metadata": {
  "kernelspec": {
   "display_name": "Python 3 (ipykernel)",
   "language": "python",
   "name": "python3"
  },
  "language_info": {
   "codemirror_mode": {
    "name": "ipython",
    "version": 3
   },
   "file_extension": ".py",
   "mimetype": "text/x-python",
   "name": "python",
   "nbconvert_exporter": "python",
   "pygments_lexer": "ipython3",
   "version": "3.12.8"
  }
 },
 "nbformat": 4,
 "nbformat_minor": 5
}
